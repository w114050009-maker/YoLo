{
  "nbformat": 4,
  "nbformat_minor": 0,
  "metadata": {
    "colab": {
      "provenance": [],
      "collapsed_sections": [
        "uDGWcThgoO-9",
        "zmkxd-4u1BSY"
      ],
      "gpuType": "T4",
      "include_colab_link": true
    },
    "kernelspec": {
      "name": "python3",
      "display_name": "Python 3"
    },
    "language_info": {
      "name": "python"
    },
    "accelerator": "GPU"
  },
  "cells": [
    {
      "cell_type": "markdown",
      "metadata": {
        "id": "view-in-github",
        "colab_type": "text"
      },
      "source": [
        "<a href=\"https://colab.research.google.com/github/w114050009-maker/YoLo/blob/main/YOLOv3_Kaggle_CarObjDetect.ipynb\" target=\"_parent\"><img src=\"https://colab.research.google.com/assets/colab-badge.svg\" alt=\"Open In Colab\"/></a>"
      ]
    },
    {
      "cell_type": "markdown",
      "source": [
        "# **Project Part 1: YOLOv3**"
      ],
      "metadata": {
        "id": "Prn3bY52w5Ih"
      }
    },
    {
      "cell_type": "markdown",
      "source": [
        "## **Introduction**"
      ],
      "metadata": {
        "id": "ksXqTFJEkRV8"
      }
    },
    {
      "cell_type": "markdown",
      "source": [
        "YOLO is a series of real-time object detection method.\n",
        "\n",
        "YOLOv3 ([paper](https://arxiv.org/pdf/1804.02767.pdf)):\n",
        "1. Anchor Based\n",
        "2. Darknet-53\n",
        "3. Feature Pyramid Networks (FPN)\n",
        "\n"
      ],
      "metadata": {
        "id": "liEUfoijkVch"
      }
    },
    {
      "cell_type": "markdown",
      "source": [
        "# **Environment Checking**"
      ],
      "metadata": {
        "id": "lctsBkW3Sf-s"
      }
    },
    {
      "cell_type": "markdown",
      "source": [
        "Please make sure your runtime type is ***GPU*** or ***TPU***\n",
        "\n",
        "Check GPU by using the following command:"
      ],
      "metadata": {
        "id": "UOOD9fNpSrq4"
      }
    },
    {
      "cell_type": "code",
      "source": [
        "!nvidia-smi"
      ],
      "metadata": {
        "id": "B32So47dTCZy"
      },
      "execution_count": null,
      "outputs": []
    },
    {
      "cell_type": "markdown",
      "source": [
        "# **Setup YOLOv3**"
      ],
      "metadata": {
        "id": "6SURKiw7x8P4"
      }
    },
    {
      "cell_type": "markdown",
      "source": [
        "This section is used to setup YOLOv3 and its environment."
      ],
      "metadata": {
        "id": "SqI7_20rDDn7"
      }
    },
    {
      "cell_type": "markdown",
      "source": [
        "## **Download Project**"
      ],
      "metadata": {
        "id": "1m2rvwFpyH0-"
      }
    },
    {
      "cell_type": "markdown",
      "source": [
        "We use [ultralytics/yolov3](https://github.com/ultralytics/yolov3), which is pytorch version of YOLOv3 and is made by the author of YOLOv5.\n",
        "\n",
        "Use `git clone` command for download project from github."
      ],
      "metadata": {
        "id": "4ZuGR6vL8byA"
      }
    },
    {
      "cell_type": "code",
      "execution_count": null,
      "metadata": {
        "id": "GDgivId8wxSs"
      },
      "outputs": [],
      "source": [
        "!git clone https://github.com/ws6125/yolov3_pytorch.git"
      ]
    },
    {
      "cell_type": "markdown",
      "source": [
        "## **Install required packages**"
      ],
      "metadata": {
        "id": "YOXxW2ZO8CzP"
      }
    },
    {
      "cell_type": "code",
      "source": [
        "%cd yolov3_pytorch\n",
        "%pip install -r requirements.txt"
      ],
      "metadata": {
        "id": "TvXGaJoO7lS1"
      },
      "execution_count": null,
      "outputs": []
    },
    {
      "cell_type": "markdown",
      "source": [
        "# **Download Dataset**"
      ],
      "metadata": {
        "id": "jpuWYzbu9Np8"
      }
    },
    {
      "cell_type": "markdown",
      "source": [
        "## **Dataset: Car Object Detection from Kaggle**"
      ],
      "metadata": {
        "id": "MLh2OTokJM6V"
      }
    },
    {
      "cell_type": "markdown",
      "source": [
        "Reference https://www.kaggle.com/code/c8736yo/yolov3-5112050010/notebook"
      ],
      "metadata": {
        "id": "yaL7T_algFBm"
      }
    },
    {
      "cell_type": "code",
      "source": [
        "import os\n",
        "import matplotlib.pyplot as plt\n",
        "import numpy as np\n",
        "import pandas as pd\n",
        "from sklearn.model_selection import train_test_split\n",
        "import shutil\n",
        "import yaml"
      ],
      "metadata": {
        "id": "YDbn7EDpCdei"
      },
      "execution_count": null,
      "outputs": []
    },
    {
      "cell_type": "code",
      "source": [
        "import kagglehub\n",
        "\n",
        "# Download latest version\n",
        "path = kagglehub.dataset_download(\"sshikamaru/car-object-detection\")\n",
        "DATASET_PATH = path + \"/data/\"\n",
        "TRAINING_IMAGES_PATH = DATASET_PATH + \"/training_images/\"\n",
        "\n",
        "#print(os.getcwd())\n",
        "print(\"Path to dataset files:\", DATASET_PATH)"
      ],
      "metadata": {
        "id": "-0mMd1O-I-YB"
      },
      "execution_count": null,
      "outputs": []
    },
    {
      "cell_type": "code",
      "source": [
        "df = pd.read_csv(DATASET_PATH + \"train_solution_bounding_boxes (1).csv\")\n",
        "\n",
        "df.shape, df[:5]"
      ],
      "metadata": {
        "id": "1gcXSZLpCl0G"
      },
      "execution_count": null,
      "outputs": []
    },
    {
      "cell_type": "code",
      "source": [
        "target = df.iloc[0]\n",
        "img = plt.imread(TRAINING_IMAGES_PATH + target[\"image\"])\n",
        "\n",
        "plt.imshow(img)\n",
        "\n",
        "plt.plot([target[\"xmin\"], target[\"xmax\"], target[\"xmax\"], target[\"xmin\"], target[\"xmin\"]],\n",
        "         [target[\"ymin\"], target[\"ymin\"], target[\"ymax\"], target[\"ymax\"], target[\"ymin\"]], c=\"red\")\n",
        "\n",
        "plt.show()"
      ],
      "metadata": {
        "id": "uYgExh1fEcWz"
      },
      "execution_count": null,
      "outputs": []
    },
    {
      "cell_type": "code",
      "source": [
        "height, width, channels = img.shape\n",
        "height, width, channels"
      ],
      "metadata": {
        "id": "m7GICFCTFvAS"
      },
      "execution_count": null,
      "outputs": []
    },
    {
      "cell_type": "code",
      "source": [
        "def normalize(target, base):\n",
        "    return target / base\n",
        "\n",
        "df[\"class\"] = 0 #only one class for car\n",
        "df[\"width\"] = normalize(df[\"xmax\"] - df[\"xmin\"], width)\n",
        "df[\"height\"] = normalize(df[\"ymax\"] - df[\"ymin\"], height)\n",
        "df[\"x_center\"] = normalize((df[\"xmax\"] + df[\"xmin\"])/2, width)\n",
        "df[\"y_center\"] = normalize((df[\"ymax\"] + df[\"ymin\"])/2, height)\n",
        "\n",
        "df[\"image_name\"] = df[\"image\"]\n",
        "df[\"image_path\"] = TRAINING_IMAGES_PATH + df[\"image\"]\n",
        "\n",
        "\n",
        "yolov3_df = df[[\"class\", \"width\", \"height\", \"x_center\", \"y_center\", \"image_name\", \"image_path\"]]\n",
        "yolov3_df"
      ],
      "metadata": {
        "id": "7h8HQfjZFzmA"
      },
      "execution_count": null,
      "outputs": []
    },
    {
      "cell_type": "code",
      "source": [
        "print(\"current path: \" + os.getcwd())\n",
        "!mkdir -p \"../dataset/kaggle/working/data\"\n",
        "!mkdir -p \"../dataset/kaggle/working/data/train\"\n",
        "!mkdir -p \"../dataset/kaggle/working/data/train/images\"\n",
        "!mkdir -p \"../dataset/kaggle/working/data/train/labels\"\n",
        "!mkdir -p \"../dataset/kaggle/working/data/val\"\n",
        "!mkdir -p \"../dataset/kaggle/working/data/val/images\"\n",
        "!mkdir -p \"../dataset/kaggle/working/data/val/labels\"\n",
        "\n",
        "TRAIN_IMAGES_PATH = \"../dataset/kaggle/working/data/train/images\"\n",
        "VAL_IMAGES_PATH = \"../dataset/kaggle/working/data/val/images\"\n",
        "TRAIN_LABLES_PATH = \"../dataset/kaggle/working/data/train/labels\"\n",
        "TRAIN_IMAGES_PATH = \"../dataset/kaggle/working/data/train/images\"\n",
        "VAL_LABLES_PATH = \"../dataset/kaggle/working/data/val/labels\"\n",
        "VAL_IMAGES_PATH = \"../dataset/kaggle/working/data/val/images\""
      ],
      "metadata": {
        "id": "aSN4bHOENjd-"
      },
      "execution_count": null,
      "outputs": []
    },
    {
      "cell_type": "code",
      "source": [
        "train_data, val_data= train_test_split(yolov3_df, test_size=0.3, random_state=42)\n",
        "\n",
        "def clear_folder(path):\n",
        "    for entry in os.scandir(path):\n",
        "        if entry.is_file():\n",
        "            os.remove(entry.path)\n",
        "\n",
        "\n",
        "def copy_data_to_folder(path, data):\n",
        "    file_list = data.image_path.values\n",
        "    for file_path in file_list:\n",
        "        dest_path = os.path.join(path, os.path.basename(file_path))\n",
        "        shutil.copy(file_path, dest_path)\n",
        "\n",
        "\n",
        "def handle_train_data_and_val_data(path, data):\n",
        "    clear_folder(path)\n",
        "    copy_data_to_folder(path, data)\n",
        "\n",
        "handle_train_data_and_val_data(TRAIN_IMAGES_PATH, train_data)\n",
        "handle_train_data_and_val_data(VAL_IMAGES_PATH, val_data)"
      ],
      "metadata": {
        "id": "5VqwC_o5QwNh"
      },
      "execution_count": null,
      "outputs": []
    },
    {
      "cell_type": "code",
      "source": [
        "def write_label_file(data, labels_path, images_path):\n",
        "    for image_name in os.listdir(images_path):\n",
        "        label_file_path = os.path.join(labels_path, image_name[:-4] + \".txt\")\n",
        "        with open(label_file_path, \"w+\") as file:\n",
        "            columns = [\"class\", \"x_center\", \"y_center\", \"width\", \"height\"]\n",
        "            rows = data[data[\"image_name\"] == image_name][columns].values\n",
        "            for row in rows:\n",
        "                file.write(\" \".join(row.astype(str)) + \"\\n\")\n",
        "\n",
        "\n",
        "write_label_file(train_data, TRAIN_LABLES_PATH, TRAIN_IMAGES_PATH)\n",
        "write_label_file(val_data, VAL_LABLES_PATH, VAL_IMAGES_PATH)"
      ],
      "metadata": {
        "id": "b9vWvsoBRp-2"
      },
      "execution_count": null,
      "outputs": []
    },
    {
      "cell_type": "code",
      "source": [
        "car_pred_yaml_dict = dict(path = \"../dataset/kaggle/working/data\",\n",
        "                 train = \"../dataset/kaggle/working/data/train\",\n",
        "                 val = \"../dataset/kaggle/working/data/val\",\n",
        "                 nc = 1,\n",
        "                 names = [\"car\"])\n",
        "\n",
        "with open('../dataset/kaggle/working/car_pred.yaml', 'w') as f:\n",
        "    yaml.dump(car_pred_yaml_dict, f, default_flow_style = False)\n",
        "\n",
        "with open('../dataset/kaggle/working/car_pred.yaml', 'r') as f:\n",
        "    print(f.read())"
      ],
      "metadata": {
        "id": "zNPNocg0Rwqe"
      },
      "execution_count": null,
      "outputs": []
    },
    {
      "cell_type": "markdown",
      "source": [
        "# **Use YOLOv3**"
      ],
      "metadata": {
        "id": "wTuQLPxNBsh5"
      }
    },
    {
      "cell_type": "markdown",
      "source": [
        "The following steps will show you how to use YOLOv3:\n",
        "1. Training\n",
        "2. Validation\n",
        "3. Inference\n",
        "4. Visualize\n",
        "\n"
      ],
      "metadata": {
        "id": "fCS1JpECBwLg"
      }
    },
    {
      "cell_type": "markdown",
      "source": [
        "## **Training**"
      ],
      "metadata": {
        "id": "ZYEPbVS_-VtM"
      }
    },
    {
      "cell_type": "markdown",
      "source": [
        "Train a YOLOv3 model on the dataset.\n",
        "\n",
        "You can also set `--weights` parameter to use a pre-train model."
      ],
      "metadata": {
        "id": "sQqK8wKu_60c"
      }
    },
    {
      "cell_type": "code",
      "source": [
        "!rm -rf runs/train\n",
        "!python train.py --img 640 --batch 16 --epochs 12 --weights '' --cfg models/yolov3.yaml --hyp data/hyps/hyp.scratch-high.yaml --data /content/dataset/kaggle/working/car_pred.yaml --cache"
      ],
      "metadata": {
        "id": "IQLX2_AW-moK"
      },
      "execution_count": null,
      "outputs": []
    },
    {
      "cell_type": "markdown",
      "source": [
        "## **Validation**"
      ],
      "metadata": {
        "id": "y5W-Sc5mBFM4"
      }
    },
    {
      "cell_type": "markdown",
      "source": [
        "Validate the model by using validation set.\n",
        "\n",
        "You should change the `--weight` parameter to your own model."
      ],
      "metadata": {
        "id": "N22lM1yBdSqa"
      }
    },
    {
      "cell_type": "code",
      "source": [
        "!rm -rf runs/val\n",
        "!python val.py --img 640 --weights runs/train/exp/weights/last.pt --data ../dataset/kaggle/working/car_pred.yaml --img 640 --iou 0.65"
      ],
      "metadata": {
        "id": "yX1zHIGMBLQ_"
      },
      "execution_count": null,
      "outputs": []
    },
    {
      "cell_type": "markdown",
      "source": [
        "## **Inference**"
      ],
      "metadata": {
        "id": "wYZazIpgBMjW"
      }
    },
    {
      "cell_type": "markdown",
      "source": [
        "Inference images by using YOLOv3 model.\n",
        "\n",
        "You should change the `--weight` parameter to your own model.\n",
        "\n",
        "`--source` provides image, video, and directory. ([ref](https://colab.research.google.com/github/ultralytics/yolov3/blob/master/tutorial.ipynb#scrollTo=4JnkELT0cIJg))"
      ],
      "metadata": {
        "id": "UWGf-q1eLl_1"
      }
    },
    {
      "cell_type": "code",
      "source": [
        "!rm -rf runs/detect\n",
        "!python detect.py --weights runs/train/exp/weights/last.pt --source /kaggle/input/car-object-detection/data/testing_images/vid_5_26900.jpg --img 640 --conf 0.25"
      ],
      "metadata": {
        "id": "ytsRjL9NBRPe"
      },
      "execution_count": null,
      "outputs": []
    },
    {
      "cell_type": "markdown",
      "source": [
        "## **Visualize**"
      ],
      "metadata": {
        "id": "-bF3R54IBgQK"
      }
    },
    {
      "cell_type": "code",
      "source": [
        "# import cv2\n",
        "# from matplotlib import pyplot as plt\n",
        "\n",
        "# img = cv2.imread('runs/detect/exp/0000000_00098_d_0000001.jpg', cv2.IMREAD_COLOR)\n",
        "# cv2.imshow('color image', img)\n",
        "# plt.imshow(cv2.cvtColor(img, cv2.COLOR_BGR2RGB))\n",
        "# plt.axis('off')\n",
        "# plt.show()\n",
        "\n",
        "from PIL import Image\n",
        "img = Image.open('runs/detect/exp/vid_5_26900.jpg')\n",
        "display(img)"
      ],
      "metadata": {
        "id": "RVz_yx4sBjtk"
      },
      "execution_count": null,
      "outputs": []
    },
    {
      "cell_type": "markdown",
      "source": [
        "# **Report**"
      ],
      "metadata": {
        "id": "5YrVLH2LQ3Qf"
      }
    },
    {
      "cell_type": "markdown",
      "source": [
        "## **Do it yourself**"
      ],
      "metadata": {
        "id": "bpZy5qqwTZf-"
      }
    },
    {
      "cell_type": "markdown",
      "source": [
        "Please use the YOLOv3 and another dataset to train your own object detection model.\n",
        "\n",
        "Dataset: [Car Object Detection](https://www.kaggle.com/datasets/sshikamaru/car-object-detection)\n",
        "\n",
        "You have to convert the annotations in csv to YOLOv3 format. ([ref](https://github.com/ultralytics/yolov3/wiki/Train-Custom-Data))\n",
        "\n",
        "You also need to adjust hyperparameters to get better performance.\n",
        "\n",
        "**Hint**:\n",
        "1. hyp yaml file in *data/hyps* folder\n",
        "  + search for a good learning rate (**lr0**) for the optimizer you use\n",
        "  + **iou_t** should not be too large or too low\n",
        "\n",
        "2. train.py\n",
        "  + training by using more **epochs**\n",
        "\n",
        "3. val.py & detect.py (if necessary)\n",
        "  + try to adjust the **conf-thres** & **iou-thres** for better results and scores\n",
        "\n",
        "\n"
      ],
      "metadata": {
        "id": "UMnoU4ggRUtT"
      }
    }
  ]
}